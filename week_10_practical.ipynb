{
 "cells": [
  {
   "cell_type": "markdown",
   "id": "7de61552",
   "metadata": {},
   "source": [
    "* Here you'll generate your own data to make sure you understand what PCA is doing\n",
    "\n",
    "* Generate 4 variables W, X, Y, and Z\n",
    "\n",
    "1. X and Y should not be correlated\n",
    "  * They are independent\n",
    "\n",
    "2. W and X should have a mild correlation ( < 0.5)\n",
    "\n",
    "3. Y and Z should have a mild correlation ( > 0.9)\n",
    "\n",
    "4. Generate a variable outcome as a linear combination of W, X, Y, and Z"
   ]
  },
  {
   "cell_type": "code",
   "execution_count": 1,
   "id": "d3f868d2",
   "metadata": {
    "scrolled": true
   },
   "outputs": [
    {
     "name": "stdout",
     "output_type": "stream",
     "text": [
      "package 'factoextra' successfully unpacked and MD5 sums checked\n",
      "\n",
      "The downloaded binary packages are in\n",
      "\tC:\\Users\\Aimee\\AppData\\Local\\Temp\\RtmpKOzGvi\\downloaded_packages\n"
     ]
    }
   ],
   "source": [
    "install.packages(\"factoextra\")"
   ]
  },
  {
   "cell_type": "code",
   "execution_count": 5,
   "id": "5a37d624",
   "metadata": {},
   "outputs": [
    {
     "name": "stderr",
     "output_type": "stream",
     "text": [
      "also installing the dependencies 'magic', 'lpSolve', 'linprog', 'RcppProgress'\n",
      "\n"
     ]
    },
    {
     "name": "stdout",
     "output_type": "stream",
     "text": [
      "package 'magic' successfully unpacked and MD5 sums checked\n",
      "package 'lpSolve' successfully unpacked and MD5 sums checked\n",
      "package 'linprog' successfully unpacked and MD5 sums checked\n",
      "package 'RcppProgress' successfully unpacked and MD5 sums checked\n",
      "package 'geometry' successfully unpacked and MD5 sums checked\n",
      "\n",
      "The downloaded binary packages are in\n",
      "\tC:\\Users\\Aimee\\AppData\\Local\\Temp\\RtmpKOzGvi\\downloaded_packages\n"
     ]
    }
   ],
   "source": [
    "install.packages(\"geometry\")"
   ]
  },
  {
   "cell_type": "code",
   "execution_count": 6,
   "id": "0cec0830",
   "metadata": {},
   "outputs": [
    {
     "name": "stderr",
     "output_type": "stream",
     "text": [
      "Warning message:\n",
      "\"package 'geometry' was built under R version 3.6.3\"Warning message:\n",
      "\"package 'factoextra' was built under R version 3.6.3\"Welcome! Want to learn more? See two factoextra-related books at https://goo.gl/ve3WBa\n"
     ]
    }
   ],
   "source": [
    "library(ggplot2)\n",
    "library(tidyverse)\n",
    "library(geometry)\n",
    "library(factoextra)"
   ]
  },
  {
   "cell_type": "code",
   "execution_count": 7,
   "id": "d3e30c04",
   "metadata": {
    "scrolled": true
   },
   "outputs": [
    {
     "data": {
      "text/html": [
       "<table>\n",
       "<thead><tr><th scope=col>x</th><th scope=col>y</th><th scope=col>z</th><th scope=col>w</th></tr></thead>\n",
       "<tbody>\n",
       "\t<tr><td>6.307837   </td><td>-0.1371094 </td><td> 0.08306619</td><td> 4.5515975 </td></tr>\n",
       "\t<tr><td>5.038105   </td><td> 3.3014697 </td><td> 3.93943960</td><td> 0.6458452 </td></tr>\n",
       "\t<tr><td>1.300992   </td><td> 2.8519130 </td><td> 2.98429957</td><td>-4.4923065 </td></tr>\n",
       "\t<tr><td>4.734473   </td><td>-2.8677661 </td><td>-3.12307306</td><td> 3.4999475 </td></tr>\n",
       "\t<tr><td>2.602364   </td><td> 0.2515128 </td><td> 0.11629719</td><td> 4.0028798 </td></tr>\n",
       "\t<tr><td>2.340517   </td><td> 1.3468802 </td><td> 1.45048515</td><td>-0.4530461 </td></tr>\n",
       "</tbody>\n",
       "</table>\n"
      ],
      "text/latex": [
       "\\begin{tabular}{r|llll}\n",
       " x & y & z & w\\\\\n",
       "\\hline\n",
       "\t 6.307837    & -0.1371094  &  0.08306619 &  4.5515975 \\\\\n",
       "\t 5.038105    &  3.3014697  &  3.93943960 &  0.6458452 \\\\\n",
       "\t 1.300992    &  2.8519130  &  2.98429957 & -4.4923065 \\\\\n",
       "\t 4.734473    & -2.8677661  & -3.12307306 &  3.4999475 \\\\\n",
       "\t 2.602364    &  0.2515128  &  0.11629719 &  4.0028798 \\\\\n",
       "\t 2.340517    &  1.3468802  &  1.45048515 & -0.4530461 \\\\\n",
       "\\end{tabular}\n"
      ],
      "text/markdown": [
       "\n",
       "| x | y | z | w |\n",
       "|---|---|---|---|\n",
       "| 6.307837    | -0.1371094  |  0.08306619 |  4.5515975  |\n",
       "| 5.038105    |  3.3014697  |  3.93943960 |  0.6458452  |\n",
       "| 1.300992    |  2.8519130  |  2.98429957 | -4.4923065  |\n",
       "| 4.734473    | -2.8677661  | -3.12307306 |  3.4999475  |\n",
       "| 2.602364    |  0.2515128  |  0.11629719 |  4.0028798  |\n",
       "| 2.340517    |  1.3468802  |  1.45048515 | -0.4530461  |\n",
       "\n"
      ],
      "text/plain": [
       "  x        y          z           w         \n",
       "1 6.307837 -0.1371094  0.08306619  4.5515975\n",
       "2 5.038105  3.3014697  3.93943960  0.6458452\n",
       "3 1.300992  2.8519130  2.98429957 -4.4923065\n",
       "4 4.734473 -2.8677661 -3.12307306  3.4999475\n",
       "5 2.602364  0.2515128  0.11629719  4.0028798\n",
       "6 2.340517  1.3468802  1.45048515 -0.4530461"
      ]
     },
     "metadata": {},
     "output_type": "display_data"
    }
   ],
   "source": [
    "set.seed(44)\n",
    "x = rnorm(30, 5, 2)\n",
    "y = rnorm(30, 0, 2)\n",
    "noise_w = rnorm(30, 0, 2)\n",
    "noise_z = rnorm(30, 0, 0.2)\n",
    "w = 0.4 * x + noise_w\n",
    "z = 1.1 * y + noise_z\n",
    "random_data = data.frame(x, y, z, w)\n",
    "head(random_data)"
   ]
  },
  {
   "cell_type": "code",
   "execution_count": 8,
   "id": "1767f775",
   "metadata": {},
   "outputs": [
    {
     "data": {
      "text/html": [
       "-0.0854717601895192"
      ],
      "text/latex": [
       "-0.0854717601895192"
      ],
      "text/markdown": [
       "-0.0854717601895192"
      ],
      "text/plain": [
       "[1] -0.08547176"
      ]
     },
     "metadata": {},
     "output_type": "display_data"
    },
    {
     "data": {
      "text/html": [
       "0.997340331693598"
      ],
      "text/latex": [
       "0.997340331693598"
      ],
      "text/markdown": [
       "0.997340331693598"
      ],
      "text/plain": [
       "[1] 0.9973403"
      ]
     },
     "metadata": {},
     "output_type": "display_data"
    },
    {
     "data": {
      "text/html": [
       "0.451353479934256"
      ],
      "text/latex": [
       "0.451353479934256"
      ],
      "text/markdown": [
       "0.451353479934256"
      ],
      "text/plain": [
       "[1] 0.4513535"
      ]
     },
     "metadata": {},
     "output_type": "display_data"
    }
   ],
   "source": [
    "cor(random_data$x, random_data$y)\n",
    "cor(random_data$y, random_data$z)\n",
    "cor(random_data$x, random_data$w)"
   ]
  },
  {
   "cell_type": "code",
   "execution_count": 9,
   "id": "8b6c5b50",
   "metadata": {},
   "outputs": [
    {
     "data": {
      "image/png": "[encoded data removed]",
      "text/plain": [
       "plot without title"
      ]
     },
     "metadata": {},
     "output_type": "display_data"
    },
    {
     "data": {
      "image/png": "[encoded data removed]",
      "text/plain": [
       "plot without title"
      ]
     },
     "metadata": {},
     "output_type": "display_data"
    }
   ],
   "source": [
    "ggplot(random_data, aes(x=x, y=w))+\n",
    "    geom_point()+\n",
    "    geom_smooth(method = \"lm\", se = FALSE)\n",
    "\n",
    "ggplot(random_data, aes(x=y, y=z))+\n",
    "    geom_point()+\n",
    "    geom_smooth(method = \"lm\", se = FALSE)"
   ]
  },
  {
   "cell_type": "code",
   "execution_count": 10,
   "id": "7ab86a2d",
   "metadata": {},
   "outputs": [],
   "source": [
    "outcome = 1 + 1.1*w + 3*x + 1.4*y + 1*z"
   ]
  },
  {
   "cell_type": "markdown",
   "id": "6c97b474",
   "metadata": {},
   "source": [
    "5. Model your outcome using W, X, Y, and Z.\n",
    "  * Do your results match your model params?"
   ]
  },
  {
   "cell_type": "code",
   "execution_count": 11,
   "id": "43387ff4",
   "metadata": {},
   "outputs": [
    {
     "data": {
      "text/html": [
       "0.997340331693598"
      ],
      "text/latex": [
       "0.997340331693598"
      ],
      "text/markdown": [
       "0.997340331693598"
      ],
      "text/plain": [
       "[1] 0.9973403"
      ]
     },
     "metadata": {},
     "output_type": "display_data"
    }
   ],
   "source": [
    "cor(random_data$y, random_data$z)"
   ]
  },
  {
   "cell_type": "code",
   "execution_count": 12,
   "id": "e517215a",
   "metadata": {},
   "outputs": [
    {
     "name": "stderr",
     "output_type": "stream",
     "text": [
      "Warning message in summary.lm(random_model):\n",
      "\"essentially perfect fit: summary may be unreliable\""
     ]
    },
    {
     "data": {
      "text/plain": [
       "\n",
       "Call:\n",
       "lm(formula = outcome ~ ., data = random_data)\n",
       "\n",
       "Residuals:\n",
       "       Min         1Q     Median         3Q        Max \n",
       "-1.075e-14 -8.244e-16  7.899e-16  1.579e-15  3.485e-15 \n",
       "\n",
       "Coefficients:\n",
       "             Estimate Std. Error   t value Pr(>|t|)    \n",
       "(Intercept) 1.000e+00  1.396e-15 7.162e+14   <2e-16 ***\n",
       "x           3.000e+00  2.930e-16 1.024e+16   <2e-16 ***\n",
       "y           1.400e+00  3.307e-15 4.234e+14   <2e-16 ***\n",
       "z           1.000e+00  3.028e-15 3.302e+14   <2e-16 ***\n",
       "w           1.100e+00  2.783e-16 3.953e+15   <2e-16 ***\n",
       "---\n",
       "Signif. codes:  0 '***' 0.001 '**' 0.01 '*' 0.05 '.' 0.1 ' ' 1\n",
       "\n",
       "Residual standard error: 3.188e-15 on 25 degrees of freedom\n",
       "Multiple R-squared:      1,\tAdjusted R-squared:      1 \n",
       "F-statistic: 7.409e+31 on 4 and 25 DF,  p-value: < 2.2e-16\n"
      ]
     },
     "metadata": {},
     "output_type": "display_data"
    }
   ],
   "source": [
    "random_model = lm(outcome ~ ., data = random_data)\n",
    "summary(random_model)\n",
    "\n",
    "#Unsure how/why the model is a perfect fit even with noise and variability within the data's components?"
   ]
  },
  {
   "cell_type": "markdown",
   "id": "ab6754a8",
   "metadata": {},
   "source": [
    "6. Use PCA to reduce the dimensionality of your dataset\n",
    "  * Can you explain why you don't need to include the outcome?     "
   ]
  },
  {
   "cell_type": "code",
   "execution_count": 13,
   "id": "31a91928",
   "metadata": {},
   "outputs": [
    {
     "data": {
      "text/plain": [
       "Importance of components:\n",
       "                          PC1    PC2    PC3     PC4\n",
       "Standard deviation     1.4178 1.2021 0.7363 0.05019\n",
       "Proportion of Variance 0.5026 0.3613 0.1355 0.00063\n",
       "Cumulative Proportion  0.5026 0.8638 0.9994 1.00000"
      ]
     },
     "metadata": {},
     "output_type": "display_data"
    }
   ],
   "source": [
    "res_pca = prcomp(random_data, scale=TRUE)\n",
    "summary(res_pca)"
   ]
  },
  {
   "cell_type": "code",
   "execution_count": 17,
   "id": "3206ce5d",
   "metadata": {},
   "outputs": [],
   "source": [
    "# Since the outcome is a combination offf all variables, it is unnecessary to include it in the PCA evaluation since all\n",
    "# points will already using w, x, y, z. "
   ]
  },
  {
   "cell_type": "markdown",
   "id": "8b851bc6",
   "metadata": {},
   "source": [
    "7. Use the bi-plot to visualize the contributions of your initial variables"
   ]
  },
  {
   "cell_type": "code",
   "execution_count": 16,
   "id": "20baf4cb",
   "metadata": {},
   "outputs": [
    {
     "data": {
      "image/png": "[encoded data removed]",
      "text/plain": [
       "plot without title"
      ]
     },
     "metadata": {},
     "output_type": "display_data"
    }
   ],
   "source": [
    "biplot(res_pca)"
   ]
  },
  {
   "cell_type": "markdown",
   "id": "aac6da7c",
   "metadata": {},
   "source": [
    "8. How efficient is the new lower-dimensional space representation at predicting the outcome?\n",
    "  * Do your results match your model params?"
   ]
  },
  {
   "cell_type": "code",
   "execution_count": null,
   "id": "423c48df",
   "metadata": {},
   "outputs": [],
   "source": [
    "# this model seems to match the expectation of corelation between the z & y and x & w variables. \n",
    "# this model fits our expectations for the data and seems to match the model parameters."
   ]
  }
 ],
 "metadata": {
  "kernelspec": {
   "display_name": "R",
   "language": "R",
   "name": "ir"
  },
  "language_info": {
   "codemirror_mode": "r",
   "file_extension": ".r",
   "mimetype": "text/x-r-source",
   "name": "R",
   "pygments_lexer": "r",
   "version": "3.6.1"
  }
 },
 "nbformat": 4,
 "nbformat_minor": 5
}
